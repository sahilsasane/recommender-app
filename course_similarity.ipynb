{
 "cells": [
  {
   "cell_type": "code",
   "execution_count": 1,
   "metadata": {},
   "outputs": [],
   "source": [
    "import pandas as pd"
   ]
  },
  {
   "cell_type": "code",
   "execution_count": 2,
   "metadata": {},
   "outputs": [],
   "source": [
    "ratings_df = pd.read_csv(\"./data/ratings.csv\")\n",
    "sim_df = pd.read_csv(\"./data/sim.csv\")\n",
    "processed_df = pd.read_csv(\"./data/course_processed.csv\")\n",
    "processed_df[\"TITLE\"] = processed_df[\"TITLE\"].str.title()\n",
    "bow_df = pd.read_csv(\"./data/courses_bows.csv\")"
   ]
  },
  {
   "cell_type": "code",
   "execution_count": 3,
   "metadata": {},
   "outputs": [
    {
     "data": {
      "text/html": [
       "<div>\n",
       "<style scoped>\n",
       "    .dataframe tbody tr th:only-of-type {\n",
       "        vertical-align: middle;\n",
       "    }\n",
       "\n",
       "    .dataframe tbody tr th {\n",
       "        vertical-align: top;\n",
       "    }\n",
       "\n",
       "    .dataframe thead th {\n",
       "        text-align: right;\n",
       "    }\n",
       "</style>\n",
       "<table border=\"1\" class=\"dataframe\">\n",
       "  <thead>\n",
       "    <tr style=\"text-align: right;\">\n",
       "      <th></th>\n",
       "      <th>doc_index</th>\n",
       "      <th>doc_id</th>\n",
       "      <th>token</th>\n",
       "      <th>bow</th>\n",
       "    </tr>\n",
       "  </thead>\n",
       "  <tbody>\n",
       "    <tr>\n",
       "      <th>0</th>\n",
       "      <td>0</td>\n",
       "      <td>ML0201EN</td>\n",
       "      <td>ai</td>\n",
       "      <td>2</td>\n",
       "    </tr>\n",
       "    <tr>\n",
       "      <th>1</th>\n",
       "      <td>0</td>\n",
       "      <td>ML0201EN</td>\n",
       "      <td>apps</td>\n",
       "      <td>2</td>\n",
       "    </tr>\n",
       "    <tr>\n",
       "      <th>2</th>\n",
       "      <td>0</td>\n",
       "      <td>ML0201EN</td>\n",
       "      <td>build</td>\n",
       "      <td>2</td>\n",
       "    </tr>\n",
       "    <tr>\n",
       "      <th>3</th>\n",
       "      <td>0</td>\n",
       "      <td>ML0201EN</td>\n",
       "      <td>cloud</td>\n",
       "      <td>1</td>\n",
       "    </tr>\n",
       "    <tr>\n",
       "      <th>4</th>\n",
       "      <td>0</td>\n",
       "      <td>ML0201EN</td>\n",
       "      <td>coming</td>\n",
       "      <td>1</td>\n",
       "    </tr>\n",
       "  </tbody>\n",
       "</table>\n",
       "</div>"
      ],
      "text/plain": [
       "   doc_index    doc_id   token  bow\n",
       "0          0  ML0201EN      ai    2\n",
       "1          0  ML0201EN    apps    2\n",
       "2          0  ML0201EN   build    2\n",
       "3          0  ML0201EN   cloud    1\n",
       "4          0  ML0201EN  coming    1"
      ]
     },
     "execution_count": 3,
     "metadata": {},
     "output_type": "execute_result"
    }
   ],
   "source": [
    "bow_df.head()"
   ]
  },
  {
   "cell_type": "code",
   "execution_count": 4,
   "metadata": {},
   "outputs": [],
   "source": [
    "grouped_df = bow_df.groupby([\"doc_index\", \"doc_id\"]).max().reset_index(drop=False)\n",
    "idx_id_dict = grouped_df[[\"doc_id\"]].to_dict()[\"doc_id\"]\n",
    "id_idx_dict = {v:k for k,v in idx_id_dict.items()}"
   ]
  },
  {
   "cell_type": "code",
   "execution_count": 7,
   "metadata": {},
   "outputs": [
    {
     "data": {
      "text/plain": [
       "dict_values([0, 1, 2, 3, 4, 5, 6, 7, 8, 9, 10, 11, 12, 13, 14, 15, 16, 17, 18, 19, 20, 21, 22, 23, 24, 25, 26, 27, 28, 29, 30, 31, 32, 33, 34, 35, 36, 37, 38, 39, 40, 41, 42, 43, 44, 45, 46, 47, 48, 49, 50, 51, 52, 53, 54, 55, 56, 57, 58, 59, 60, 61, 62, 63, 64, 65, 66, 67, 68, 69, 70, 71, 72, 73, 74, 75, 76, 77, 78, 79, 80, 81, 82, 83, 84, 85, 86, 87, 88, 89, 90, 91, 92, 93, 94, 95, 96, 97, 98, 99, 100, 101, 102, 103, 104, 105, 106, 107, 108, 109, 110, 111, 112, 113, 114, 115, 116, 117, 118, 119, 120, 121, 122, 123, 124, 125, 126, 127, 128, 129, 130, 131, 132, 133, 134, 135, 136, 137, 138, 139, 140, 141, 142, 143, 144, 145, 146, 147, 148, 149, 150, 151, 152, 153, 154, 155, 156, 157, 158, 159, 160, 161, 162, 163, 164, 165, 166, 167, 168, 169, 170, 171, 172, 173, 174, 175, 176, 177, 178, 179, 180, 181, 182, 183, 184, 185, 186, 187, 188, 189, 190, 191, 192, 193, 194, 195, 196, 197, 198, 199, 200, 201, 202, 203, 204, 205, 206, 207, 208, 209, 210, 211, 212, 213, 214, 215, 216, 217, 218, 219, 220, 221, 222, 223, 224, 225, 226, 227, 228, 229, 230, 231, 232, 233, 234, 235, 236, 237, 238, 239, 240, 241, 242, 243, 244, 245, 246, 247, 248, 249, 250, 251, 252, 253, 254, 255, 256, 257, 258, 259, 260, 261, 262, 263, 264, 265, 266, 267, 268, 269, 270, 271, 272, 273, 274, 275, 276, 277, 278, 279, 280, 281, 282, 283, 284, 285, 286, 287, 288, 289, 290, 291, 292, 293, 294, 295, 296, 297, 298, 299, 300, 301, 302, 303, 304, 305, 306])"
      ]
     },
     "execution_count": 7,
     "metadata": {},
     "output_type": "execute_result"
    }
   ],
   "source": [
    "id_idx_dict.values()\n"
   ]
  },
  {
   "cell_type": "code",
   "execution_count": 11,
   "metadata": {},
   "outputs": [],
   "source": [
    "def generate_recommendations_for_one_user(enrolled_course_ids,id_idx_dict, sim_matrix):\n",
    "    # Create a dictionary to store your recommendation results\n",
    "    res = {}\n",
    "    threshold = 0.6 \n",
    "    all_courses = set(idx_id_dict.values())\n",
    "    unselected_course_ids = all_courses.difference(enrolled_course_ids)\n",
    "    for enrolled_course in enrolled_course_ids:\n",
    "        for unselect_course in unselected_course_ids:\n",
    "            if enrolled_course in id_idx_dict and unselect_course in id_idx_dict:\n",
    "                \n",
    "                sim = 0\n",
    "                idx1 = id_idx_dict[enrolled_course]\n",
    "                idx2 = id_idx_dict[unselect_course]\n",
    "                sim = sim_matrix[idx1][idx2]\n",
    "                \n",
    "                if sim > threshold:\n",
    "                    if unselect_course not in res:\n",
    "                        res[unselect_course] = sim\n",
    "                    else:\n",
    "                        if sim >= res[unselect_course]:\n",
    "                            res[unselect_course] = sim\n",
    "                            \n",
    "    res = {k: v for k, v in sorted(res.items(), key=lambda item: item[1], reverse=True)}\n",
    "    return res"
   ]
  },
  {
   "cell_type": "code",
   "execution_count": 12,
   "metadata": {},
   "outputs": [],
   "source": [
    "enrolled_course_ids = ratings_df[ratings_df['user'] == 1889878]['item'].to_list()\n",
    "sim_matrix = sim_df.to_numpy()"
   ]
  },
  {
   "cell_type": "code",
   "execution_count": 13,
   "metadata": {},
   "outputs": [
    {
     "data": {
      "text/plain": [
       "{'ML0120ENv3': 1.0,\n",
       " 'ML0120EN': 1.0,\n",
       " 'ML0122ENv1': 0.9828731898973628,\n",
       " 'CB0101EN': 0.9233805168766388,\n",
       " 'excourse24': 0.7526312050490548,\n",
       " 'excourse36': 0.7397041774816828,\n",
       " 'excourse23': 0.7397041774816828,\n",
       " 'DS0110EN': 0.7329409123199365,\n",
       " 'CL0101EN': 0.7327907262791404,\n",
       " 'excourse32': 0.7220184676669504,\n",
       " 'excourse67': 0.7082138557765277,\n",
       " 'ML0122ENv3': 0.7071067811865475,\n",
       " 'excourse63': 0.6945631057877047,\n",
       " 'excourse46': 0.6892532539898828,\n",
       " 'excourse38': 0.6816378987999318,\n",
       " 'excourse47': 0.6800651961945685,\n",
       " 'excourse33': 0.6645087922452757,\n",
       " 'excourse72': 0.6525351630658943,\n",
       " 'excourse74': 0.6500714712738288,\n",
       " 'excourse62': 0.6475015976638527,\n",
       " 'excourse22': 0.6475015976638527,\n",
       " 'excourse65': 0.638641451227374,\n",
       " 'excourse28': 0.6237538183537886,\n",
       " 'BD0145EN': 0.623543584505046,\n",
       " 'excourse68': 0.616759399492821,\n",
       " 'excourse60': 0.6155678409534919,\n",
       " 'excourse09': 0.6083303292403595,\n",
       " 'excourse25': 0.6005354126741058}"
      ]
     },
     "execution_count": 13,
     "metadata": {},
     "output_type": "execute_result"
    }
   ],
   "source": [
    "generate_recommendations_for_one_user(enrolled_course_ids, id_idx_dict, sim_matrix) "
   ]
  },
  {
   "cell_type": "code",
   "execution_count": null,
   "metadata": {},
   "outputs": [],
   "source": []
  }
 ],
 "metadata": {
  "kernelspec": {
   "display_name": "base",
   "language": "python",
   "name": "python3"
  },
  "language_info": {
   "codemirror_mode": {
    "name": "ipython",
    "version": 3
   },
   "file_extension": ".py",
   "mimetype": "text/x-python",
   "name": "python",
   "nbconvert_exporter": "python",
   "pygments_lexer": "ipython3",
   "version": "3.11.5"
  }
 },
 "nbformat": 4,
 "nbformat_minor": 2
}
