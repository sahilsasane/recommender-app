{
 "cells": [
  {
   "cell_type": "code",
   "execution_count": null,
   "metadata": {},
   "outputs": [],
   "source": [
    "import pandas as pd\n",
    "import tensorflow as tf\n",
    "import matplotlib.pyplot as plt\n",
    "\n",
    "from tensorflow import keras\n",
    "from tensorflow.keras import layers"
   ]
  },
  {
   "cell_type": "code",
   "execution_count": 26,
   "metadata": {},
   "outputs": [
    {
     "data": {
      "text/plain": [
       "[PhysicalDevice(name='/physical_device:GPU:0', device_type='GPU')]"
      ]
     },
     "execution_count": 26,
     "metadata": {},
     "output_type": "execute_result"
    }
   ],
   "source": [
    "tf.config.list_physical_devices('GPU')"
   ]
  },
  {
   "cell_type": "code",
   "execution_count": 2,
   "metadata": {},
   "outputs": [
    {
     "data": {
      "text/html": [
       "<div>\n",
       "<style scoped>\n",
       "    .dataframe tbody tr th:only-of-type {\n",
       "        vertical-align: middle;\n",
       "    }\n",
       "\n",
       "    .dataframe tbody tr th {\n",
       "        vertical-align: top;\n",
       "    }\n",
       "\n",
       "    .dataframe thead th {\n",
       "        text-align: right;\n",
       "    }\n",
       "</style>\n",
       "<table border=\"1\" class=\"dataframe\">\n",
       "  <thead>\n",
       "    <tr style=\"text-align: right;\">\n",
       "      <th></th>\n",
       "      <th>user</th>\n",
       "      <th>item</th>\n",
       "      <th>rating</th>\n",
       "    </tr>\n",
       "  </thead>\n",
       "  <tbody>\n",
       "    <tr>\n",
       "      <th>0</th>\n",
       "      <td>1889878</td>\n",
       "      <td>CC0101EN</td>\n",
       "      <td>3.0</td>\n",
       "    </tr>\n",
       "    <tr>\n",
       "      <th>1</th>\n",
       "      <td>1342067</td>\n",
       "      <td>CL0101EN</td>\n",
       "      <td>3.0</td>\n",
       "    </tr>\n",
       "    <tr>\n",
       "      <th>2</th>\n",
       "      <td>1990814</td>\n",
       "      <td>ML0120ENv3</td>\n",
       "      <td>3.0</td>\n",
       "    </tr>\n",
       "    <tr>\n",
       "      <th>3</th>\n",
       "      <td>380098</td>\n",
       "      <td>BD0211EN</td>\n",
       "      <td>3.0</td>\n",
       "    </tr>\n",
       "    <tr>\n",
       "      <th>4</th>\n",
       "      <td>779563</td>\n",
       "      <td>DS0101EN</td>\n",
       "      <td>3.0</td>\n",
       "    </tr>\n",
       "  </tbody>\n",
       "</table>\n",
       "</div>"
      ],
      "text/plain": [
       "      user        item  rating\n",
       "0  1889878    CC0101EN     3.0\n",
       "1  1342067    CL0101EN     3.0\n",
       "2  1990814  ML0120ENv3     3.0\n",
       "3   380098    BD0211EN     3.0\n",
       "4   779563    DS0101EN     3.0"
      ]
     },
     "execution_count": 2,
     "metadata": {},
     "output_type": "execute_result"
    }
   ],
   "source": [
    "rating_url = \"https://cf-courses-data.s3.us.cloud-object-storage.appdomain.cloud/IBM-ML321EN-SkillsNetwork/labs/datasets/ratings.csv\"\n",
    "rating_df = pd.read_csv(rating_url)\n",
    "rating_df.head()"
   ]
  },
  {
   "cell_type": "code",
   "execution_count": 7,
   "metadata": {},
   "outputs": [
    {
     "name": "stdout",
     "output_type": "stream",
     "text": [
      "users: 33901\n",
      "items: 126\n"
     ]
    }
   ],
   "source": [
    "num_users = rating_df['user'].nunique()\n",
    "num_items = rating_df['item'].nunique()\n",
    "print(f\"users: {num_users}\\nitems: {num_items}\")"
   ]
  },
  {
   "cell_type": "code",
   "execution_count": 23,
   "metadata": {},
   "outputs": [],
   "source": [
    "class RecommenderNetwork(keras.Model):\n",
    "    def __init__(self,num_users,num_items,embedding_size=16,**kwargs):\n",
    "        super(RecommenderNetwork,self).__init__(**kwargs)\n",
    "        self.num_users = num_users  \n",
    "        self.num_items = num_items\n",
    "        self.embedding_size = embedding_size\n",
    "        \n",
    "        self.user_embedding_layer = layers.Embedding(\n",
    "            input_dim = num_users,\n",
    "            output_dim = embedding_size,\n",
    "            name = 'user_embedding_layer',\n",
    "            embeddings_initializer = 'he_normal',\n",
    "            embeddings_regularizer = keras.regularizers.l2(1e-6),\n",
    "        )\n",
    "        \n",
    "        self.user_bias = layers.Embedding(\n",
    "            input_dim = num_users,\n",
    "            output_dim = 1,\n",
    "            name= 'user_bias',\n",
    "        )\n",
    "        \n",
    "        self.item_embedding_layer = layers.Embedding(\n",
    "            input_dim = num_items,\n",
    "            output_dim = embedding_size,\n",
    "            name = 'item_embedding_layer',\n",
    "            embeddings_initializer = 'he_normal',\n",
    "            embeddings_regularizer = keras.regularizers.l2(1e-6),\n",
    "        )\n",
    "        \n",
    "        self.item_bias = layers.Embedding(\n",
    "            input_dim = num_items,\n",
    "            output_dim = 1,\n",
    "            name = 'item_bias',\n",
    "        )\n",
    "    \n",
    "    def call(self,inputs):\n",
    "        user_vector = self.user_embedding_layer(inputs[:,0])\n",
    "        user_bias = self.user_bias(inputs[:,0])\n",
    "        item_vector = self.item_embedding_layer(inputs[:,1])\n",
    "        item_bias = self.item_bias(inputs[:,1])\n",
    "        dot_user_item = tf.tensordot(user_vector,item_vector,2)\n",
    "        x = dot_user_item + user_bias + item_bias\n",
    "        \n",
    "        return tf.nn.relu(x)"
   ]
  },
  {
   "cell_type": "code",
   "execution_count": 11,
   "metadata": {},
   "outputs": [],
   "source": [
    "def process_dataseet(raw_data):\n",
    "    encoded_data = raw_data.copy()\n",
    "    \n",
    "    user_list = encoded_data['user'].unique().tolist()\n",
    "    user_id2idx_dict = {x:i for i,x in enumerate(user_list)}\n",
    "    user_idx2id_dict = {i:x for i,x in enumerate(user_list)}\n",
    "    \n",
    "    course_list = encoded_data['item'].unique().tolist()\n",
    "    course_id2idx_dict = {x:i for i,x in enumerate(course_list)}\n",
    "    course_idx2id_dict = {i:x for i,x in enumerate(course_list)}\n",
    "    \n",
    "    encoded_data['user'] = encoded_data['user'].map(user_id2idx_dict)\n",
    "    encoded_data['item'] = encoded_data['item'].map(course_id2idx_dict)\n",
    "    encoded_data['rating'] = encoded_data['rating'].values.astype('int')\n",
    "    \n",
    "    return encoded_data, user_idx2id_dict, course_idx2id_dict"
   ]
  },
  {
   "cell_type": "code",
   "execution_count": 12,
   "metadata": {},
   "outputs": [],
   "source": [
    "encoded_data, user_idx2id_dict, course_idx2id_dict = process_dataseet(rating_df)"
   ]
  },
  {
   "cell_type": "code",
   "execution_count": 13,
   "metadata": {},
   "outputs": [
    {
     "data": {
      "text/html": [
       "<div>\n",
       "<style scoped>\n",
       "    .dataframe tbody tr th:only-of-type {\n",
       "        vertical-align: middle;\n",
       "    }\n",
       "\n",
       "    .dataframe tbody tr th {\n",
       "        vertical-align: top;\n",
       "    }\n",
       "\n",
       "    .dataframe thead th {\n",
       "        text-align: right;\n",
       "    }\n",
       "</style>\n",
       "<table border=\"1\" class=\"dataframe\">\n",
       "  <thead>\n",
       "    <tr style=\"text-align: right;\">\n",
       "      <th></th>\n",
       "      <th>user</th>\n",
       "      <th>item</th>\n",
       "      <th>rating</th>\n",
       "    </tr>\n",
       "  </thead>\n",
       "  <tbody>\n",
       "    <tr>\n",
       "      <th>0</th>\n",
       "      <td>0</td>\n",
       "      <td>0</td>\n",
       "      <td>3</td>\n",
       "    </tr>\n",
       "    <tr>\n",
       "      <th>1</th>\n",
       "      <td>1</td>\n",
       "      <td>1</td>\n",
       "      <td>3</td>\n",
       "    </tr>\n",
       "    <tr>\n",
       "      <th>2</th>\n",
       "      <td>2</td>\n",
       "      <td>2</td>\n",
       "      <td>3</td>\n",
       "    </tr>\n",
       "    <tr>\n",
       "      <th>3</th>\n",
       "      <td>3</td>\n",
       "      <td>3</td>\n",
       "      <td>3</td>\n",
       "    </tr>\n",
       "    <tr>\n",
       "      <th>4</th>\n",
       "      <td>4</td>\n",
       "      <td>4</td>\n",
       "      <td>3</td>\n",
       "    </tr>\n",
       "  </tbody>\n",
       "</table>\n",
       "</div>"
      ],
      "text/plain": [
       "   user  item  rating\n",
       "0     0     0       3\n",
       "1     1     1       3\n",
       "2     2     2       3\n",
       "3     3     3       3\n",
       "4     4     4       3"
      ]
     },
     "execution_count": 13,
     "metadata": {},
     "output_type": "execute_result"
    }
   ],
   "source": [
    "encoded_data.head()"
   ]
  },
  {
   "cell_type": "code",
   "execution_count": 14,
   "metadata": {},
   "outputs": [],
   "source": [
    "def generate_train_test_dataset(dataset,scale=True):\n",
    "    min_rating = min(dataset['rating'])\n",
    "    max_rating = max(dataset['rating'])\n",
    "    \n",
    "    dataset = dataset.sample(frac=1,random_state=42)\n",
    "    x = dataset[['user','item']].values\n",
    "    if scale:\n",
    "        y = dataset['rating'].apply(lambda x: (x-min_rating)/(max_rating-min_rating)).values\n",
    "    else:\n",
    "        y = dataset['rating'].values\n",
    "        \n",
    "    train_indices = int(0.8 * dataset.shape[0])\n",
    "    test_indices = int(0.9 * dataset.shape[0])\n",
    "    \n",
    "    x_train, x_val, x_test, y_train, y_val, y_test = (\n",
    "        x[:train_indices],\n",
    "        x[train_indices:test_indices],\n",
    "        x[test_indices:],\n",
    "        y[:train_indices],\n",
    "        y[train_indices:test_indices],\n",
    "        y[test_indices:]\n",
    "    )\n",
    "    return x_train, x_val, x_test, y_train, y_val, y_test"
   ]
  },
  {
   "cell_type": "code",
   "execution_count": 15,
   "metadata": {},
   "outputs": [],
   "source": [
    "x_train, x_val, x_test, y_train, y_val, y_test = generate_train_test_dataset(encoded_data)"
   ]
  },
  {
   "cell_type": "code",
   "execution_count": 16,
   "metadata": {},
   "outputs": [
    {
     "data": {
      "text/plain": [
       "array([ 8376,  7659, 10717, ...,  3409, 28761,  4973], dtype=int64)"
      ]
     },
     "execution_count": 16,
     "metadata": {},
     "output_type": "execute_result"
    }
   ],
   "source": [
    "user_indices = x_train[:,0]\n",
    "user_indices"
   ]
  },
  {
   "cell_type": "code",
   "execution_count": 17,
   "metadata": {},
   "outputs": [
    {
     "data": {
      "text/plain": [
       "array([12, 29,  3, ..., 18, 19, 17], dtype=int64)"
      ]
     },
     "execution_count": 17,
     "metadata": {},
     "output_type": "execute_result"
    }
   ],
   "source": [
    "item_indices = x_train[:,1]\n",
    "item_indices"
   ]
  },
  {
   "cell_type": "code",
   "execution_count": 18,
   "metadata": {},
   "outputs": [
    {
     "data": {
      "text/plain": [
       "array([1., 1., 1., ..., 1., 0., 1.])"
      ]
     },
     "execution_count": 18,
     "metadata": {},
     "output_type": "execute_result"
    }
   ],
   "source": [
    "y_train"
   ]
  },
  {
   "cell_type": "code",
   "execution_count": 24,
   "metadata": {},
   "outputs": [],
   "source": [
    "embedding_size = 16\n",
    "model = RecommenderNetwork(num_users,num_items,embedding_size)"
   ]
  },
  {
   "cell_type": "code",
   "execution_count": 37,
   "metadata": {},
   "outputs": [
    {
     "name": "stdout",
     "output_type": "stream",
     "text": [
      "Model: \"recommender_network_2\"\n",
      "_________________________________________________________________\n",
      " Layer (type)                Output Shape              Param #   \n",
      "=================================================================\n",
      " user_embedding_layer (Embed  multiple                 542416    \n",
      " ding)                                                           \n",
      "                                                                 \n",
      " user_bias (Embedding)       multiple                  33901     \n",
      "                                                                 \n",
      " item_embedding_layer (Embed  multiple                 2016      \n",
      " ding)                                                           \n",
      "                                                                 \n",
      " item_bias (Embedding)       multiple                  126       \n",
      "                                                                 \n",
      "=================================================================\n",
      "Total params: 578,459\n",
      "Trainable params: 578,459\n",
      "Non-trainable params: 0\n",
      "_________________________________________________________________\n"
     ]
    }
   ],
   "source": [
    "model.summary()"
   ]
  },
  {
   "cell_type": "code",
   "execution_count": 27,
   "metadata": {},
   "outputs": [
    {
     "name": "stdout",
     "output_type": "stream",
     "text": [
      "Epoch 1/10\n",
      "2917/2917 [==============================] - 41s 14ms/step - loss: 0.0462 - root_mean_squared_error: 0.2142 - val_loss: 0.0412 - val_root_mean_squared_error: 0.2013\n",
      "Epoch 2/10\n",
      "2917/2917 [==============================] - 37s 13ms/step - loss: 0.0366 - root_mean_squared_error: 0.1890 - val_loss: 0.0312 - val_root_mean_squared_error: 0.1738\n",
      "Epoch 3/10\n",
      "2917/2917 [==============================] - 36s 12ms/step - loss: 0.0243 - root_mean_squared_error: 0.1525 - val_loss: 0.0242 - val_root_mean_squared_error: 0.1520\n",
      "Epoch 4/10\n",
      "2917/2917 [==============================] - 37s 13ms/step - loss: 0.0191 - root_mean_squared_error: 0.1339 - val_loss: 0.0214 - val_root_mean_squared_error: 0.1418\n",
      "Epoch 5/10\n",
      "2917/2917 [==============================] - 39s 14ms/step - loss: 0.0162 - root_mean_squared_error: 0.1221 - val_loss: 0.0198 - val_root_mean_squared_error: 0.1359\n",
      "Epoch 6/10\n",
      "2917/2917 [==============================] - 38s 13ms/step - loss: 0.0144 - root_mean_squared_error: 0.1138 - val_loss: 0.0191 - val_root_mean_squared_error: 0.1325\n",
      "Epoch 7/10\n",
      "2917/2917 [==============================] - 41s 14ms/step - loss: 0.0128 - root_mean_squared_error: 0.1060 - val_loss: 0.0180 - val_root_mean_squared_error: 0.1283\n",
      "Epoch 8/10\n",
      "2917/2917 [==============================] - 47s 16ms/step - loss: 0.0114 - root_mean_squared_error: 0.0989 - val_loss: 0.0174 - val_root_mean_squared_error: 0.1255\n",
      "Epoch 9/10\n",
      "2917/2917 [==============================] - 48s 17ms/step - loss: 0.0102 - root_mean_squared_error: 0.0924 - val_loss: 0.0169 - val_root_mean_squared_error: 0.1235\n",
      "Epoch 10/10\n",
      "2917/2917 [==============================] - 47s 16ms/step - loss: 0.0092 - root_mean_squared_error: 0.0868 - val_loss: 0.0163 - val_root_mean_squared_error: 0.1206\n"
     ]
    }
   ],
   "source": [
    "model.compile(loss=tf.keras.losses.MeanSquaredError(),optimizer=keras.optimizers.Adam(learning_rate=0.001),metrics=[tf.keras.metrics.RootMeanSquaredError()])\n",
    "\n",
    "history = model.fit(x=x_train,y=y_train,batch_size=64,epochs=10,verbose=1,validation_data=(x_val,y_val))\n"
   ]
  },
  {
   "cell_type": "code",
   "execution_count": 34,
   "metadata": {},
   "outputs": [
    {
     "data": {
      "text/plain": [
       "<matplotlib.legend.Legend at 0x1b71f4fed00>"
      ]
     },
     "execution_count": 34,
     "metadata": {},
     "output_type": "execute_result"
    },
    {
     "data": {
      "image/png": "[encoded data removed]",
      "text/plain": [
       "<Figure size 640x480 with 1 Axes>"
      ]
     },
     "metadata": {},
     "output_type": "display_data"
    }
   ],
   "source": [
    "plt.plot(history.history['loss'])\n",
    "plt.plot(history.history['val_loss'])\n",
    "plt.title('model loss')\n",
    "plt.legend(['train loss','val loss'],loc='upper right')"
   ]
  },
  {
   "cell_type": "code",
   "execution_count": 88,
   "metadata": {},
   "outputs": [
    {
     "name": "stdout",
     "output_type": "stream",
     "text": [
      "INFO:tensorflow:Assets written to: model\\assets\n"
     ]
    }
   ],
   "source": [
    "model.save('model')"
   ]
  },
  {
   "cell_type": "code",
   "execution_count": 35,
   "metadata": {},
   "outputs": [
    {
     "name": "stdout",
     "output_type": "stream",
     "text": [
      "730/730 [==============================] - 6s 8ms/step - loss: 0.0155 - root_mean_squared_error: 0.1173\n"
     ]
    },
    {
     "data": {
      "text/plain": [
       "[0.015485147945582867, 0.11734103411436081]"
      ]
     },
     "execution_count": 35,
     "metadata": {},
     "output_type": "execute_result"
    }
   ],
   "source": [
    "model.evaluate(x_test,y_test)"
   ]
  },
  {
   "cell_type": "code",
   "execution_count": 38,
   "metadata": {},
   "outputs": [
    {
     "data": {
      "text/plain": [
       "(33901, 16)"
      ]
     },
     "execution_count": 38,
     "metadata": {},
     "output_type": "execute_result"
    }
   ],
   "source": [
    "user_latent_features = model.get_layer('user_embedding_layer').get_weights()[0]\n",
    "user_latent_features.shape"
   ]
  },
  {
   "cell_type": "code",
   "execution_count": 39,
   "metadata": {},
   "outputs": [
    {
     "data": {
      "text/plain": [
       "(126, 16)"
      ]
     },
     "execution_count": 39,
     "metadata": {},
     "output_type": "execute_result"
    }
   ],
   "source": [
    "item_latent_features = model.get_layer('item_embedding_layer').get_weights()[0]\n",
    "item_latent_features.shape"
   ]
  },
  {
   "cell_type": "code",
   "execution_count": 41,
   "metadata": {},
   "outputs": [],
   "source": [
    "# class CustomRecommenderNetwork(keras.Model):\n",
    "#     def __init__(self, num_users, num_items, embedding_size=16, hidden_units=[64, 32], activation='relu', **kwargs):\n",
    "#         super(CustomRecommenderNetwork, self).__init__(**kwargs)\n",
    "#         self.num_users = num_users\n",
    "#         self.num_items = num_items\n",
    "#         self.embedding_size = embedding_size\n",
    "\n",
    "#         self.user_embedding_layer = layers.Embedding(\n",
    "#             input_dim=num_users,\n",
    "#             output_dim=embedding_size,\n",
    "#             name='user_embedding_layer',\n",
    "#             embeddings_initializer='he_normal',\n",
    "#             embeddings_regularizer=keras.regularizers.l2(1e-6),\n",
    "#         )\n",
    "\n",
    "#         self.user_bias = layers.Embedding(\n",
    "#             input_dim=num_users,\n",
    "#             output_dim=1,\n",
    "#             name='user_bias',\n",
    "#         )\n",
    "\n",
    "#         self.item_embedding_layer = layers.Embedding(\n",
    "#             input_dim=num_items,\n",
    "#             output_dim=embedding_size,\n",
    "#             name='item_embedding_layer',\n",
    "#             embeddings_initializer='he_normal',\n",
    "#             embeddings_regularizer=keras.regularizers.l2(1e-6),\n",
    "#         )\n",
    "\n",
    "#         self.item_bias = layers.Embedding(\n",
    "#             input_dim=num_items,\n",
    "#             output_dim=1,\n",
    "#             name='item_bias',\n",
    "#         )\n",
    "\n",
    "#         self.hidden_layers = []\n",
    "#         for units in hidden_units:\n",
    "#             self.hidden_layers.append(layers.Dense(units, activation=activation))\n",
    "\n",
    "#         self.output_layer = layers.Dense(1, activation='relu')\n",
    "\n",
    "#     def call(self, inputs):\n",
    "#         user_vector = self.user_embedding_layer(inputs[:, 0])\n",
    "#         user_bias = self.user_bias(inputs[:, 0])\n",
    "#         item_vector = self.item_embedding_layer(inputs[:, 1])\n",
    "#         item_bias = self.item_bias(inputs[:, 1])\n",
    "#         dot_user_item = tf.tensordot(user_vector, item_vector, 2)\n",
    "#         x = dot_user_item + user_bias + item_bias\n",
    "\n",
    "#         for layer in self.hidden_layers:\n",
    "#             x = layer(x)\n",
    "\n",
    "#         return self.output_layer(x)\n"
   ]
  },
  {
   "cell_type": "code",
   "execution_count": 81,
   "metadata": {},
   "outputs": [],
   "source": [
    "item_df = pd.DataFrame(rating_df['item'].unique())\n",
    "item_df.columns = ['item']\n",
    "item_col_rename = ['CFeature'+str(i) for i in range(16)]\n",
    "i_latent_features = pd.DataFrame(item_latent_features)\n",
    "i_latent_features.columns = item_col_rename\n",
    "item_emb = pd.concat([item_df,i_latent_features],axis=1)"
   ]
  },
  {
   "cell_type": "code",
   "execution_count": 82,
   "metadata": {},
   "outputs": [],
   "source": [
    "user_df = pd.DataFrame(rating_df['user'].unique())\n",
    "user_df.columns = ['user']\n",
    "user_col_rename = ['UFeature'+str(i) for i in range(16)]\n",
    "u_latent_features = pd.DataFrame(user_latent_features)\n",
    "u_latent_features.columns = user_col_rename\n",
    "user_emb = pd.concat([user_df,u_latent_features],axis=1)"
   ]
  },
  {
   "cell_type": "code",
   "execution_count": 85,
   "metadata": {},
   "outputs": [],
   "source": [
    "# item_emb.to_csv('./data/course_embeddings.csv',index=False)\n",
    "# user_emb.to_csv('./data/user_embeddings.csv',index=False)"
   ]
  }
 ],
 "metadata": {
  "kernelspec": {
   "display_name": "tf",
   "language": "python",
   "name": "python3"
  },
  "language_info": {
   "codemirror_mode": {
    "name": "ipython",
    "version": 3
   },
   "file_extension": ".py",
   "mimetype": "text/x-python",
   "name": "python",
   "nbconvert_exporter": "python",
   "pygments_lexer": "ipython3",
   "version": "3.9.18"
  }
 },
 "nbformat": 4,
 "nbformat_minor": 2
}
